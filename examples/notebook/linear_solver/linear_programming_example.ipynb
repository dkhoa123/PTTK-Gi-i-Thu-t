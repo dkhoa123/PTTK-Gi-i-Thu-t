{
  "cells": [
    {
      "cell_type": "markdown",
      "id": "google",
      "metadata": {
        "id": "google"
      },
      "source": [
        "##### Copyright 2024 Google LLC."
      ]
    },
    {
      "cell_type": "markdown",
      "id": "apache",
      "metadata": {
        "id": "apache"
      },
      "source": [
        "Licensed under the Apache License, Version 2.0 (the \"License\");\n",
        "you may not use this file except in compliance with the License.\n",
        "You may obtain a copy of the License at\n",
        "\n",
        "    http://www.apache.org/licenses/LICENSE-2.0\n",
        "\n",
        "Unless required by applicable law or agreed to in writing, software\n",
        "distributed under the License is distributed on an \"AS IS\" BASIS,\n",
        "WITHOUT WARRANTIES OR CONDITIONS OF ANY KIND, either express or implied.\n",
        "See the License for the specific language governing permissions and\n",
        "limitations under the License.\n"
      ]
    },
    {
      "cell_type": "markdown",
      "id": "basename",
      "metadata": {
        "id": "basename"
      },
      "source": [
        "# linear_programming_example"
      ]
    },
    {
      "cell_type": "markdown",
      "id": "link",
      "metadata": {
        "id": "link"
      },
      "source": [
        "<table align=\"left\">\n",
        "<td>\n",
        "<a href=\"https://colab.research.google.com/github/google/or-tools/blob/main/examples/notebook/linear_solver/linear_programming_example.ipynb\"><img src=\"https://raw.githubusercontent.com/google/or-tools/main/tools/colab_32px.png\"/>Run in Google Colab</a>\n",
        "</td>\n",
        "<td>\n",
        "<a href=\"https://github.com/google/or-tools/blob/main/ortools/linear_solver/samples/linear_programming_example.py\"><img src=\"https://raw.githubusercontent.com/google/or-tools/main/tools/github_32px.png\"/>View source on GitHub</a>\n",
        "</td>\n",
        "</table>"
      ]
    },
    {
      "cell_type": "markdown",
      "id": "doc",
      "metadata": {
        "id": "doc"
      },
      "source": [
        "First, you must install [ortools](https://pypi.org/project/ortools/) package in this colab."
      ]
    },
    {
      "cell_type": "code",
      "execution_count": null,
      "id": "install",
      "metadata": {
        "id": "install"
      },
      "outputs": [],
      "source": [
        "%pip install ortools"
      ]
    },
    {
      "cell_type": "markdown",
      "id": "description",
      "metadata": {
        "id": "description"
      },
      "source": [
        "\n",
        "Linear optimization example."
      ]
    },
    {
      "cell_type": "code",
      "execution_count": 5,
      "id": "code",
      "metadata": {
        "colab": {
          "base_uri": "https://localhost:8080/"
        },
        "id": "code",
        "outputId": "4e6eaa54-af50-4169-dc7e-401196c3c025"
      },
      "outputs": [
        {
          "output_type": "stream",
          "name": "stdout",
          "text": [
            "Giải pháp tối ưu đã tìm được:\n",
            "Công việc 3 được giao cho công nhân 1. Chi phí: 6\n",
            "Công việc 2 được giao cho công nhân 2. Chi phí: 10\n",
            "Công việc 1 được giao cho công nhân 3. Chi phí: 9\n",
            "Tổng chi phí: 25\n"
          ]
        }
      ],
      "source": [
        "from ortools.linear_solver import pywraplp\n",
        "\n",
        "def assignment_problem(cost_matrix):\n",
        "    # Khởi tạo solver\n",
        "    solver = pywraplp.Solver.CreateSolver('SCIP')\n",
        "    if not solver:\n",
        "        print(\"Solver không được cài đặt.\")\n",
        "        return\n",
        "\n",
        "    n = len(cost_matrix)  # Số công việc (hoặc số công nhân)\n",
        "\n",
        "    # Khởi tạo biến nhị phân x[i][j]: 1 nếu công việc j được giao cho công nhân i\n",
        "    x = []\n",
        "    for i in range(n):\n",
        "        x.append([solver.BoolVar(f'x[{i},{j}]') for j in range(n)])\n",
        "\n",
        "    # Ràng buộc: Mỗi công việc chỉ được giao cho một công nhân\n",
        "    for j in range(n):\n",
        "        solver.Add(sum(x[i][j] for i in range(n)) == 1)\n",
        "\n",
        "    # Ràng buộc: Mỗi công nhân chỉ thực hiện một công việc\n",
        "    for i in range(n):\n",
        "        solver.Add(sum(x[i][j] for j in range(n)) == 1)\n",
        "\n",
        "    # Hàm mục tiêu: Tối thiểu hóa tổng chi phí\n",
        "    solver.Minimize(solver.Sum(cost_matrix[i][j] * x[i][j] for i in range(n) for j in range(n)))\n",
        "\n",
        "    # Giải bài toán\n",
        "    status = solver.Solve()\n",
        "\n",
        "    if status == pywraplp.Solver.OPTIMAL:\n",
        "        print('Giải pháp tối ưu đã tìm được:')\n",
        "        total_cost = 0\n",
        "        for i in range(n):\n",
        "            for j in range(n):\n",
        "                if x[i][j].solution_value() > 0:\n",
        "                    print(f'Công việc {j + 1} được giao cho công nhân {i + 1}. Chi phí: {cost_matrix[i][j]}')\n",
        "                    total_cost += cost_matrix[i][j]\n",
        "        print(f'Tổng chi phí: {total_cost}')\n",
        "    else:\n",
        "        print('Không tìm được giải pháp tối ưu.')\n",
        "\n",
        "# Ma trận chi phí ví dụ\n",
        "cost_matrix = [\n",
        "    [11, 14, 6],\n",
        "    [8, 10, 11],\n",
        "    [9, 12, 7]\n",
        "]\n",
        "\n",
        "assignment_problem(cost_matrix)\n"
      ]
    },
    {
      "cell_type": "code",
      "source": [],
      "metadata": {
        "id": "vXHVOaGQzXa3"
      },
      "id": "vXHVOaGQzXa3",
      "execution_count": null,
      "outputs": []
    },
    {
      "cell_type": "code",
      "source": [],
      "metadata": {
        "id": "_e3RKRb0yvU3"
      },
      "id": "_e3RKRb0yvU3",
      "execution_count": null,
      "outputs": []
    }
  ],
  "metadata": {
    "colab": {
      "provenance": []
    },
    "language_info": {
      "name": "python"
    },
    "kernelspec": {
      "name": "python3",
      "display_name": "Python 3"
    }
  },
  "nbformat": 4,
  "nbformat_minor": 5
}