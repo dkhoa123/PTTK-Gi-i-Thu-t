{
  "cells": [
    {
      "cell_type": "markdown",
      "id": "google",
      "metadata": {
        "id": "google"
      },
      "source": [
        "##### Copyright 2024 Google LLC."
      ]
    },
    {
      "cell_type": "markdown",
      "id": "apache",
      "metadata": {
        "id": "apache"
      },
      "source": [
        "Licensed under the Apache License, Version 2.0 (the \"License\");\n",
        "you may not use this file except in compliance with the License.\n",
        "You may obtain a copy of the License at\n",
        "\n",
        "    http://www.apache.org/licenses/LICENSE-2.0\n",
        "\n",
        "Unless required by applicable law or agreed to in writing, software\n",
        "distributed under the License is distributed on an \"AS IS\" BASIS,\n",
        "WITHOUT WARRANTIES OR CONDITIONS OF ANY KIND, either express or implied.\n",
        "See the License for the specific language governing permissions and\n",
        "limitations under the License.\n"
      ]
    },
    {
      "cell_type": "markdown",
      "id": "basename",
      "metadata": {
        "id": "basename"
      },
      "source": [
        "# linear_programming_example"
      ]
    },
    {
      "cell_type": "markdown",
      "id": "link",
      "metadata": {
        "id": "link"
      },
      "source": [
        "<table align=\"left\">\n",
        "<td>\n",
        "<a href=\"https://colab.research.google.com/github/google/or-tools/blob/main/examples/notebook/linear_solver/linear_programming_example.ipynb\"><img src=\"https://raw.githubusercontent.com/google/or-tools/main/tools/colab_32px.png\"/>Run in Google Colab</a>\n",
        "</td>\n",
        "<td>\n",
        "<a href=\"https://github.com/google/or-tools/blob/main/ortools/linear_solver/samples/linear_programming_example.py\"><img src=\"https://raw.githubusercontent.com/google/or-tools/main/tools/github_32px.png\"/>View source on GitHub</a>\n",
        "</td>\n",
        "</table>"
      ]
    },
    {
      "cell_type": "markdown",
      "id": "doc",
      "metadata": {
        "id": "doc"
      },
      "source": [
        "First, you must install [ortools](https://pypi.org/project/ortools/) package in this colab."
      ]
    },
    {
      "cell_type": "code",
      "execution_count": null,
      "id": "install",
      "metadata": {
        "id": "install"
      },
      "outputs": [],
      "source": [
        "%pip install ortools"
      ]
    },
    {
      "cell_type": "markdown",
      "id": "description",
      "metadata": {
        "id": "description"
      },
      "source": [
        "\n",
        "Linear optimization example."
      ]
    },
    {
      "cell_type": "code",
      "execution_count": 7,
      "id": "code",
      "metadata": {
        "id": "code",
        "outputId": "0948272a-b2cd-4e66-9cbc-0372e264e202",
        "colab": {
          "base_uri": "https://localhost:8080/"
        }
      },
      "outputs": [
        {
          "output_type": "stream",
          "name": "stdout",
          "text": [
            "Giải pháp tối ưu:\n",
            "Chuyển 4.0 từ kho 1 đến trạm 4 với chi phí 9\n",
            "Chuyển 4.0 từ kho 2 đến trạm 2 với chi phí 4\n",
            "Chuyển 2.0 từ kho 2 đến trạm 5 với chi phí 1\n",
            "Chuyển 7.0 từ kho 3 đến trạm 1 với chi phí 3\n",
            "Chuyển 3.0 từ kho 3 đến trạm 2 với chi phí 1\n",
            "Chuyển 7.0 từ kho 4 đến trạm 3 với chi phí 17\n",
            "Chuyển 3.0 từ kho 4 đến trạm 4 với chi phí 10\n",
            "Tổng chi phí: 227.0\n"
          ]
        }
      ],
      "source": [
        "from ortools.linear_solver import pywraplp\n",
        "\n",
        "def solve_transportation_problem(costs, supply, demand):\n",
        "    # Cân bằng cung và cầu\n",
        "    total_supply = sum(supply)\n",
        "    total_demand = sum(demand)\n",
        "\n",
        "    if total_supply < total_demand:\n",
        "        # Thêm một kho giả\n",
        "        supply.append(total_demand - total_supply)\n",
        "        costs.append([0] * len(demand))  # Chi phí từ kho giả đến các trạm = 0\n",
        "    elif total_supply > total_demand:\n",
        "        # Thêm một trạm giả\n",
        "        demand.append(total_supply - total_demand)\n",
        "        for cost in costs:\n",
        "            cost.append(0)  # Chi phí từ các kho đến trạm giả = 0\n",
        "\n",
        "    # Tạo solver\n",
        "    solver = pywraplp.Solver.CreateSolver('GLOP')\n",
        "\n",
        "    if not solver:\n",
        "        print(\"Solver không khả dụng.\")\n",
        "        return\n",
        "\n",
        "    num_warehouses = len(supply)  # Số lượng kho\n",
        "    num_stations = len(demand)   # Số lượng trạm\n",
        "\n",
        "    # Tạo biến quyết định x[i][j]: lượng xăng vận chuyển từ kho i đến trạm j\n",
        "    x = []\n",
        "    for i in range(num_warehouses):\n",
        "        x.append([solver.NumVar(0, solver.infinity(), f'x[{i},{j}]') for j in range(num_stations)])\n",
        "\n",
        "    # Ràng buộc cung ứng: tổng lượng xăng xuất khỏi mỗi kho không vượt quá cung cấp\n",
        "    for i in range(num_warehouses):\n",
        "        solver.Add(solver.Sum(x[i][j] for j in range(num_stations)) <= supply[i])\n",
        "\n",
        "    # Ràng buộc nhu cầu: tổng lượng xăng nhận vào mỗi trạm đúng bằng nhu cầu\n",
        "    for j in range(num_stations):\n",
        "        solver.Add(solver.Sum(x[i][j] for i in range(num_warehouses)) == demand[j])\n",
        "\n",
        "    # Hàm mục tiêu: tối thiểu hóa tổng chi phí vận chuyển\n",
        "    solver.Minimize(solver.Sum(costs[i][j] * x[i][j] for i in range(num_warehouses) for j in range(num_stations)))\n",
        "\n",
        "    # Giải bài toán\n",
        "    status = solver.Solve()\n",
        "\n",
        "    # Kiểm tra trạng thái giải pháp\n",
        "    if status == pywraplp.Solver.OPTIMAL:\n",
        "        print(\"Giải pháp tối ưu:\")\n",
        "        total_cost = 0\n",
        "        for i in range(num_warehouses):\n",
        "            for j in range(num_stations):\n",
        "                if x[i][j].solution_value() > 0:\n",
        "                    print(f\"Chuyển {x[i][j].solution_value()} từ kho {i+1} đến trạm {j+1} với chi phí {costs[i][j]}\")\n",
        "                    total_cost += x[i][j].solution_value() * costs[i][j]\n",
        "        print(f\"Tổng chi phí: {total_cost}\")\n",
        "    else:\n",
        "        print(\"Không tìm thấy giải pháp tối ưu.\")\n",
        "\n",
        "# Dữ liệu đầu vào\n",
        "costs = [\n",
        "    [30, 27, 26, 9, 23],  # Chi phí từ kho 1\n",
        "    [13, 4, 22, 3, 1],   # Chi phí từ kho 2\n",
        "    [3, 1, 5, 4, 24], # Chi phí từ kho 3\n",
        "    [16, 30, 17, 10, 16],   # Chi phí từ kho 4\n",
        "]\n",
        "supply = [4, 6, 10, 10]   # Lượng xăng dự trữ tại các kho\n",
        "demand = [7, 7, 7, 7, 2]  # Nhu cầu tại các trạm\n",
        "\n",
        "solve_transportation_problem(costs, supply, demand)\n"
      ]
    }
  ],
  "metadata": {
    "colab": {
      "provenance": []
    },
    "language_info": {
      "name": "python"
    },
    "kernelspec": {
      "name": "python3",
      "display_name": "Python 3"
    }
  },
  "nbformat": 4,
  "nbformat_minor": 5
}